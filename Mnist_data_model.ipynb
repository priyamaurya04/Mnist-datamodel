{
 "cells": [
  {
   "cell_type": "code",
   "execution_count": 20,
   "metadata": {},
   "outputs": [],
   "source": [
    "import tensorflow as tf\n",
    "## Using Mnist handwritten digit recognition dataset\n",
    "mnist= tf.keras.datasets.mnist\n",
    "\n",
    "## Loading dataset\n",
    "(x_train,y_train),(x_test,y_test)= mnist.load_data()"
   ]
  },
  {
   "cell_type": "code",
   "execution_count": 21,
   "metadata": {},
   "outputs": [],
   "source": [
    "## Normalize xtrain and xtest to get more simple shape for better performance\n",
    "x_train = tf.keras.utils.normalize(x_train,axis=1)\n",
    "x_test = tf.keras.utils.normalize(x_test,axis=1)\n"
   ]
  },
  {
   "cell_type": "code",
   "execution_count": 22,
   "metadata": {},
   "outputs": [],
   "source": [
    "## Using Sequential model with more basic layers\n",
    "model= tf.keras.models.Sequential()\n",
    "\n",
    "## Add Flatter input layer\n",
    "model.add(tf.keras.layers.Flatten())"
   ]
  },
  {
   "cell_type": "code",
   "execution_count": 27,
   "metadata": {},
   "outputs": [],
   "source": [
    "## Adding 2 hidden layer with 128 neurons and relu activation function \n",
    "\n",
    "model.add(tf.keras.layers.Dense(128,activation=\"relu\"))\n",
    "model.add(tf.keras.layers.Dense(128,activation=\"relu\"))"
   ]
  },
  {
   "cell_type": "code",
   "execution_count": 28,
   "metadata": {},
   "outputs": [],
   "source": [
    "## Adding final output Dense layer with 10 neurons as we have 10 output classes and using softmax activation function as this is probability classification\n",
    "model.add(tf.keras.layers.Dense(10,activation=\"softmax\"))"
   ]
  },
  {
   "cell_type": "code",
   "execution_count": 29,
   "metadata": {},
   "outputs": [],
   "source": [
    "model.compile(loss='sparse_categorical_crossentropy', optimizer= 'adam',metrics=['accuracy'])"
   ]
  },
  {
   "cell_type": "code",
   "execution_count": 30,
   "metadata": {},
   "outputs": [
    {
     "name": "stdout",
     "output_type": "stream",
     "text": [
      "Train on 60000 samples\n",
      "Epoch 1/3\n",
      "60000/60000 [==============================] - 12s 196us/sample - loss: 0.2569 - accuracy: 0.9216\n",
      "Epoch 2/3\n",
      "60000/60000 [==============================] - 8s 130us/sample - loss: 0.1150 - accuracy: 0.9651\n",
      "Epoch 3/3\n",
      "60000/60000 [==============================] - 10s 162us/sample - loss: 0.0822 - accuracy: 0.9751\n"
     ]
    },
    {
     "data": {
      "text/plain": [
       "<tensorflow.python.keras.callbacks.History at 0x15a97f15b38>"
      ]
     },
     "execution_count": 30,
     "metadata": {},
     "output_type": "execute_result"
    }
   ],
   "source": [
    "#training\n",
    "model.fit(x_train,y_train,epochs=3)"
   ]
  },
  {
   "cell_type": "code",
   "execution_count": 31,
   "metadata": {},
   "outputs": [
    {
     "name": "stdout",
     "output_type": "stream",
     "text": [
      "10000/10000 [==============================] - 1s 99us/sample - loss: 0.1158 - accuracy: 0.9664\n",
      "0.1157616336895153 0.9664\n"
     ]
    }
   ],
   "source": [
    "## Now check the loss and Accuracy with test data\n",
    "val_loss, val_accu = model.evaluate(x_test,y_test)\n",
    "print(val_loss,val_accu)"
   ]
  },
  {
   "cell_type": "code",
   "execution_count": 34,
   "metadata": {},
   "outputs": [
    {
     "name": "stdout",
     "output_type": "stream",
     "text": [
      "INFO:tensorflow:Assets written to: Mnist_Data_Model\\assets\n"
     ]
    }
   ],
   "source": [
    "## Saving the Model\n",
    "model.save('Mnist_Data_Model')\n",
    "New_model = tf.keras.models.load_model('Mnist_Data_Model')"
   ]
  },
  {
   "cell_type": "code",
   "execution_count": 37,
   "metadata": {},
   "outputs": [
    {
     "data": {
      "text/plain": [
       "(10000, 28, 28)"
      ]
     },
     "execution_count": 37,
     "metadata": {},
     "output_type": "execute_result"
    }
   ],
   "source": [
    "x_test.shape"
   ]
  },
  {
   "cell_type": "code",
   "execution_count": 38,
   "metadata": {},
   "outputs": [
    {
     "name": "stdout",
     "output_type": "stream",
     "text": [
      "[[6.9535361e-08 2.8029365e-08 1.5706099e-06 ... 9.9958581e-01\n",
      "  1.7046315e-07 2.4735511e-05]\n",
      " [4.5753012e-07 3.8347533e-04 9.9924159e-01 ... 2.2666078e-04\n",
      "  4.9478094e-06 1.8880931e-07]\n",
      " [7.2843967e-08 9.9895334e-01 5.5721548e-06 ... 8.6057890e-04\n",
      "  7.9353580e-05 5.3454460e-05]\n",
      " ...\n",
      " [1.6731981e-06 2.3558325e-06 4.4372750e-06 ... 2.3908089e-05\n",
      "  4.7105194e-05 3.0732532e-03]\n",
      " [7.0843512e-08 1.1448932e-09 7.9403311e-09 ... 2.2657821e-07\n",
      "  1.5979836e-05 2.2141915e-06]\n",
      " [1.2099683e-06 6.5127176e-10 6.5396422e-10 ... 3.5719535e-12\n",
      "  2.2170052e-08 1.8526672e-08]]\n"
     ]
    }
   ],
   "source": [
    "## now if we want to make the prediction from new models but it will show predicted number as array\n",
    "\n",
    "prediction= New_model.predict(x_test)\n",
    "print(prediction)"
   ]
  },
  {
   "cell_type": "code",
   "execution_count": 39,
   "metadata": {},
   "outputs": [],
   "source": [
    "## to covert the array into number to show the result we need to use numpy\n",
    "import numpy as np\n"
   ]
  },
  {
   "cell_type": "code",
   "execution_count": 42,
   "metadata": {},
   "outputs": [
    {
     "name": "stdout",
     "output_type": "stream",
     "text": [
      "2\n"
     ]
    }
   ],
   "source": [
    "## will print the number\n",
    "print(np.argmax(prediction[1]))"
   ]
  },
  {
   "cell_type": "code",
   "execution_count": 44,
   "metadata": {},
   "outputs": [],
   "source": [
    "## if we need to recheck whether x_test[0]=7 or not then we need to plot the graph\n",
    "import matplotlib.pyplot as plt"
   ]
  },
  {
   "cell_type": "code",
   "execution_count": 46,
   "metadata": {},
   "outputs": [
    {
     "data": {
      "text/plain": [
       "<matplotlib.image.AxesImage at 0x15a9f67b630>"
      ]
     },
     "execution_count": 46,
     "metadata": {},
     "output_type": "execute_result"
    },
    {
     "data": {
      "image/png": "[encoded data removed]",
      "text/plain": [
       "<Figure size 432x288 with 1 Axes>"
      ]
     },
     "metadata": {
      "needs_background": "light"
     },
     "output_type": "display_data"
    }
   ],
   "source": [
    "plt.imshow(x_test[1])"
   ]
  },
  {
   "cell_type": "code",
   "execution_count": null,
   "metadata": {},
   "outputs": [],
   "source": [
    "## Great!!!!!!!!!!!!!!!!!!!!! We are done."
   ]
  }
 ],
 "metadata": {
  "kernelspec": {
   "display_name": "Python 3",
   "language": "python",
   "name": "python3"
  },
  "language_info": {
   "codemirror_mode": {
    "name": "ipython",
    "version": 3
   },
   "file_extension": ".py",
   "mimetype": "text/x-python",
   "name": "python",
   "nbconvert_exporter": "python",
   "pygments_lexer": "ipython3",
   "version": "3.6.10"
  }
 },
 "nbformat": 4,
 "nbformat_minor": 4
}
